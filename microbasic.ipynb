{
 "cells": [
  {
   "cell_type": "code",
   "execution_count": 8,
   "id": "352473e2",
   "metadata": {},
   "outputs": [],
   "source": [
    "import os\n",
    "import re\n",
    "from typing import NamedTuple\n",
    "from dataclasses import dataclass"
   ]
  },
  {
   "cell_type": "code",
   "execution_count": 9,
   "id": "d8d31e99",
   "metadata": {},
   "outputs": [
    {
     "name": "stdout",
     "output_type": "stream",
     "text": [
      "PRINT \"HELLO THERE!\";\n",
      "LET A = 10;\n",
      "LET B = 5;\n",
      "LET C = -3;\n",
      "LET Z = (A*B) + C;\n",
      "PRINT \"ANSWER IS {Z}\";\n",
      "\n"
     ]
    }
   ],
   "source": [
    "with open(\"./sample.mb\", \"r\") as f:\n",
    "    sample = f.read()\n",
    "print(sample)"
   ]
  },
  {
   "cell_type": "code",
   "execution_count": 47,
   "id": "c1c3bfbd",
   "metadata": {},
   "outputs": [],
   "source": [
    "@dataclass\n",
    "class Token:\n",
    "    type: str\n",
    "    value: str\n",
    "        \n",
    "@dataclass\n",
    "class PrintNode:\n",
    "    name = 'PrintNode'\n",
    "    children: list\n",
    "\n",
    "@dataclass\n",
    "class LetNode:\n",
    "    name = \"LetNode\"\n",
    "    children: list\n",
    "\n",
    "@dataclass\n",
    "class OperatorNode:\n",
    "    name = 'OperatorNode'\n",
    "    value: str\n",
    "\n",
    "@dataclass\n",
    "class SeparatorNode:\n",
    "    name = 'SeparatorNode'\n",
    "    value: str\n",
    "\n",
    "@dataclass\n",
    "class LiteralNode:\n",
    "    name = 'LiteralNode'\n",
    "    value: str\n",
    "    \n",
    "@dataclass\n",
    "class IdentifierNode:\n",
    "    name = 'IdentifierNode'\n",
    "    value: str"
   ]
  },
  {
   "cell_type": "code",
   "execution_count": 48,
   "id": "d6f1cd54",
   "metadata": {},
   "outputs": [],
   "source": [
    "keywords = [\"LET\", \"PRINT\", \"AND\", \"OR\", \"NOT\", \"IF\", \"ELSE\", \"GOTO\"]\n",
    "separator = ['[', ']', '(', ')', '{', '}', ';', ',', '\"']\n",
    "operator = ['+', '-', '*', '/', '%', '=', '!=', '>', '<', '==', '<=', '>=']\n",
    "tokens = []\n",
    "variables = set()\n",
    "count = 0\n",
    "lines = sample.split(';')[:-1]\n",
    "\n",
    "def parse_string(string):\n",
    "    tokens.append(Token(\"LITERAL\", string[1:-1]))\n",
    "\n",
    "def parse_expression(expression):\n",
    "    for e in expression:\n",
    "        if e in separator:\n",
    "            tokens.append(Token(\"SEPARATOR\", e))\n",
    "        elif e in operator:\n",
    "            tokens.append(Token(\"OPERATOR\", e))\n",
    "        elif (e.isalpha()) and (e in variables):\n",
    "            tokens.append(Token('IDENTIFIER', e))\n",
    "        elif e.lstrip('-').isnumeric():\n",
    "            tokens.append(Token(\"LITERAL\", e))\n",
    "        elif len(e.split('.')) == 2:\n",
    "            if (e.split('.')[0].lstrip('-').isnumeric()) and (e.split('.')[1].lstrip('-').isnumeric()):\n",
    "                tokens.append(Token(\"LITERAL\", e))\n",
    "        else:\n",
    "            if (e.isalpha()) and not(e in variables):\n",
    "                raise Exception(f\"Variable {e} not defined\")\n",
    "            else:\n",
    "                raise Exception(\"Something wrong in the expression\")\n",
    "\n",
    "\n",
    "def parse_print(string):\n",
    "    assert string[0] == string[-1] == '\"', \"Error in PRINT. Missing \\\"\"\n",
    "    if not(('{' in string) or ('}' in string)):\n",
    "        parse_string(string)\n",
    "    else:\n",
    "        # strings with vars in a PRINT statement\n",
    "        string = string[1:-1]\n",
    "        start = 0\n",
    "        for i, char in enumerate(string):\n",
    "            if char == \"{\":\n",
    "                if len(string[start:i]):\n",
    "                    tokens.append(Token(\"LITERAL\", string[start:i]))\n",
    "                start = i + 1\n",
    "                tokens.append(Token(\"SEPARATOR\", \"{\"))\n",
    "            elif char == \"}\":\n",
    "                parse_expression(string[start:i])\n",
    "                tokens.append(Token(\"SEPARATOR\", \"}\"))\n",
    "                start = i + 1\n",
    "        \n",
    "def parse_let(expression):\n",
    "    expression = expression.split('=')\n",
    "    assert expression[0].isalpha(), \"Invalid Variable name\"\n",
    "    if expression[0].isalpha():\n",
    "        variables.add(expression[0])\n",
    "        tokens.append(Token('IDENTIFIER', expression[0]))\n",
    "        tokens.append(Token('OPERATOR', '='))\n",
    "    if expression[-1].lstrip('-').isnumeric():\n",
    "        tokens.append(Token(\"LITERAL\", expression[-1]))\n",
    "    else:\n",
    "        try:\n",
    "            if float(expression[-1]):\n",
    "                tokens.append(Token(\"LITERAL\", expression[-1]))\n",
    "        except ValueError:\n",
    "            parse_expression(expression[-1])\n",
    "            #tokens.append(Token(\"EXPRESSION\", expression[-1]))   \n",
    "\n",
    "for line in lines:\n",
    "    line = line.replace('\\n', '')\n",
    "    chunks = line.split(' ')\n",
    "    if chunks[0] == \"PRINT\":\n",
    "        tokens.append(Token(\"KEYWORD\", chunks[0]))\n",
    "        parse_print(' '.join(chunks[1:]))\n",
    "    if chunks[0] == \"LET\":\n",
    "        tokens.append(Token(\"KEYWORD\", chunks[0]))\n",
    "        parse_let(''.join(chunks[1:]))\n",
    "    tokens.append(Token(\"SEPARATOR\", ';'))"
   ]
  },
  {
   "cell_type": "code",
   "execution_count": 49,
   "id": "01e11467",
   "metadata": {},
   "outputs": [
    {
     "data": {
      "text/plain": [
       "[Token(type='KEYWORD', value='PRINT'),\n",
       " Token(type='LITERAL', value='HELLO THERE!'),\n",
       " Token(type='SEPARATOR', value=';'),\n",
       " Token(type='KEYWORD', value='LET'),\n",
       " Token(type='IDENTIFIER', value='A'),\n",
       " Token(type='OPERATOR', value='='),\n",
       " Token(type='LITERAL', value='10'),\n",
       " Token(type='SEPARATOR', value=';'),\n",
       " Token(type='KEYWORD', value='LET'),\n",
       " Token(type='IDENTIFIER', value='B'),\n",
       " Token(type='OPERATOR', value='='),\n",
       " Token(type='LITERAL', value='5'),\n",
       " Token(type='SEPARATOR', value=';'),\n",
       " Token(type='KEYWORD', value='LET'),\n",
       " Token(type='IDENTIFIER', value='C'),\n",
       " Token(type='OPERATOR', value='='),\n",
       " Token(type='LITERAL', value='-3'),\n",
       " Token(type='SEPARATOR', value=';'),\n",
       " Token(type='KEYWORD', value='LET'),\n",
       " Token(type='IDENTIFIER', value='Z'),\n",
       " Token(type='OPERATOR', value='='),\n",
       " Token(type='SEPARATOR', value='('),\n",
       " Token(type='IDENTIFIER', value='A'),\n",
       " Token(type='OPERATOR', value='*'),\n",
       " Token(type='IDENTIFIER', value='B'),\n",
       " Token(type='SEPARATOR', value=')'),\n",
       " Token(type='OPERATOR', value='+'),\n",
       " Token(type='IDENTIFIER', value='C'),\n",
       " Token(type='SEPARATOR', value=';'),\n",
       " Token(type='KEYWORD', value='PRINT'),\n",
       " Token(type='LITERAL', value='ANSWER IS '),\n",
       " Token(type='SEPARATOR', value='{'),\n",
       " Token(type='IDENTIFIER', value='Z'),\n",
       " Token(type='SEPARATOR', value='}'),\n",
       " Token(type='SEPARATOR', value=';')]"
      ]
     },
     "execution_count": 49,
     "metadata": {},
     "output_type": "execute_result"
    }
   ],
   "source": [
    "tokens"
   ]
  },
  {
   "cell_type": "code",
   "execution_count": 54,
   "id": "6b0eb8a3",
   "metadata": {},
   "outputs": [],
   "source": [
    "ast = []\n",
    "i = 0\n",
    "while i < len(tokens):\n",
    "    if tokens[i].type == 'KEYWORD':\n",
    "        if tokens[i].value =='PRINT':\n",
    "            ast.append(PrintNode([]))\n",
    "            i+=1\n",
    "            while tokens[i].value != ';':\n",
    "                if tokens[i].type == 'LITERAL':\n",
    "                    ast[-1].children.append(LiteralNode(value = tokens[i].value))\n",
    "                if tokens[i].type == 'IDENTIFIER':\n",
    "                    ast[-1].children.append(IdentifierNode(value = tokens[i].value))\n",
    "                if tokens[i].type == 'SEPARATOR':\n",
    "                    ast[-1].children.append(SeparatorNode(value = tokens[i].value))\n",
    "                i+=1\n",
    "        if tokens[i].value == 'LET':\n",
    "            ast.append(LetNode([]))\n",
    "            i+=1\n",
    "            while tokens[i].value != ';':\n",
    "                if tokens[i].type == 'IDENTIFIER':\n",
    "                    ast[-1].children.append(IdentifierNode(value = tokens[i].value))\n",
    "                if tokens[i].type == 'OPERATOR':\n",
    "                    ast[-1].children.append(OperatorNode(value = tokens[i].value))\n",
    "                if tokens[i].type == 'SEPARATOR':\n",
    "                    ast[-1].children.append(SeparatorNode(value = tokens[i].value))\n",
    "                if tokens[i].type == 'LITERAL':\n",
    "                    ast[-1].children.append(LiteralNode(value = tokens[i].value))\n",
    "                i+=1\n",
    "    i+=1"
   ]
  },
  {
   "cell_type": "code",
   "execution_count": 55,
   "id": "a2d46091",
   "metadata": {},
   "outputs": [
    {
     "data": {
      "text/plain": [
       "[PrintNode(children=[LiteralNode(value='HELLO THERE!')]),\n",
       " LetNode(children=[IdentifierNode(value='A'), OperatorNode(value='='), LiteralNode(value='10')]),\n",
       " LetNode(children=[IdentifierNode(value='B'), OperatorNode(value='='), LiteralNode(value='5')]),\n",
       " LetNode(children=[IdentifierNode(value='C'), OperatorNode(value='='), LiteralNode(value='-3')]),\n",
       " LetNode(children=[IdentifierNode(value='Z'), OperatorNode(value='='), SeparatorNode(value='('), IdentifierNode(value='A'), OperatorNode(value='*'), IdentifierNode(value='B'), SeparatorNode(value=')'), OperatorNode(value='+'), IdentifierNode(value='C')]),\n",
       " PrintNode(children=[LiteralNode(value='ANSWER IS '), SeparatorNode(value='{'), IdentifierNode(value='Z'), SeparatorNode(value='}')])]"
      ]
     },
     "execution_count": 55,
     "metadata": {},
     "output_type": "execute_result"
    }
   ],
   "source": [
    "ast"
   ]
  },
  {
   "cell_type": "code",
   "execution_count": 56,
   "id": "4c91aa8e",
   "metadata": {},
   "outputs": [
    {
     "name": "stdout",
     "output_type": "stream",
     "text": [
      "PrintNode\n",
      "\t└──  LiteralNode(value='HELLO THERE!')\n",
      "LetNode\n",
      "\t└──  IdentifierNode(value='A') OperatorNode(value='=') LiteralNode(value='10')\n",
      "LetNode\n",
      "\t└──  IdentifierNode(value='B') OperatorNode(value='=') LiteralNode(value='5')\n",
      "LetNode\n",
      "\t└──  IdentifierNode(value='C') OperatorNode(value='=') LiteralNode(value='-3')\n",
      "LetNode\n",
      "\t└──  IdentifierNode(value='Z') OperatorNode(value='=') SeparatorNode(value='(') IdentifierNode(value='A') OperatorNode(value='*') IdentifierNode(value='B') SeparatorNode(value=')') OperatorNode(value='+') IdentifierNode(value='C')\n",
      "PrintNode\n",
      "\t└──  LiteralNode(value='ANSWER IS ') SeparatorNode(value='{') IdentifierNode(value='Z') SeparatorNode(value='}')\n"
     ]
    }
   ],
   "source": [
    "for node in ast:\n",
    "    print(node.name)\n",
    "    print('\\t└── ', *node.children)"
   ]
  },
  {
   "cell_type": "code",
   "execution_count": 59,
   "id": "08a25652",
   "metadata": {},
   "outputs": [],
   "source": [
    "generated_code = ''\n",
    "#add \" to the in the tokens generated. add syntax check in astfor node in ast:\n",
    "for node in ast:\n",
    "    if node.name == 'PrintNode':\n",
    "        generated_code += f'print(f\"{\"\".join([child.value for child in node.children])}\")\\n'\n",
    "    if node.name == 'LetNode':\n",
    "        generated_code += ''.join([child.value for child in node.children])+\"\\n\""
   ]
  },
  {
   "cell_type": "code",
   "execution_count": 61,
   "id": "38c2e211",
   "metadata": {},
   "outputs": [
    {
     "name": "stdout",
     "output_type": "stream",
     "text": [
      "print(f\"HELLO THERE!\")\n",
      "A=10\n",
      "B=5\n",
      "C=-3\n",
      "Z=(A*B)+C\n",
      "print(f\"ANSWER IS {Z}\")\n",
      "\n"
     ]
    }
   ],
   "source": [
    "print(generated_code)"
   ]
  },
  {
   "cell_type": "code",
   "execution_count": 62,
   "id": "23d28e3e",
   "metadata": {},
   "outputs": [
    {
     "name": "stdout",
     "output_type": "stream",
     "text": [
      "HELLO THERE!\n",
      "ANSWER IS 47\n"
     ]
    }
   ],
   "source": [
    "exec(generated_code)"
   ]
  },
  {
   "cell_type": "code",
   "execution_count": null,
   "id": "c88adfef",
   "metadata": {},
   "outputs": [],
   "source": []
  },
  {
   "cell_type": "code",
   "execution_count": null,
   "id": "d4f71d13",
   "metadata": {},
   "outputs": [],
   "source": []
  },
  {
   "cell_type": "code",
   "execution_count": null,
   "id": "1fc8fa6d",
   "metadata": {},
   "outputs": [],
   "source": []
  },
  {
   "cell_type": "code",
   "execution_count": null,
   "id": "0429482f",
   "metadata": {},
   "outputs": [],
   "source": []
  },
  {
   "cell_type": "code",
   "execution_count": null,
   "id": "3c6c57bd",
   "metadata": {},
   "outputs": [],
   "source": []
  }
 ],
 "metadata": {
  "kernelspec": {
   "display_name": "Python 3 (ipykernel)",
   "language": "python",
   "name": "python3"
  },
  "language_info": {
   "codemirror_mode": {
    "name": "ipython",
    "version": 3
   },
   "file_extension": ".py",
   "mimetype": "text/x-python",
   "name": "python",
   "nbconvert_exporter": "python",
   "pygments_lexer": "ipython3",
   "version": "3.10.12"
  }
 },
 "nbformat": 4,
 "nbformat_minor": 5
}
