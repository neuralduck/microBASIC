{
 "cells": [
  {
   "cell_type": "code",
   "execution_count": 31,
   "id": "352473e2",
   "metadata": {},
   "outputs": [],
   "source": [
    "import os\n",
    "import re\n",
    "from typing import NamedTuple\n",
    "from dataclasses import dataclass\n",
    "from enum import Enum, auto"
   ]
  },
  {
   "cell_type": "code",
   "execution_count": 32,
   "id": "d8d31e99",
   "metadata": {
    "scrolled": true
   },
   "outputs": [
    {
     "name": "stdout",
     "output_type": "stream",
     "text": [
      "PRINT \"HELLO THERE!\";\n",
      "LET A = 10;\n",
      "LET B = 5;\n",
      "LET C = -3;\n",
      "LET Z = (A*B) + C;\n",
      "PRINT \"ANSWER IS {Z}\";\n",
      "\n"
     ]
    }
   ],
   "source": [
    "with open(\"./sample.mb\", \"r\") as f:\n",
    "    code = f.read()\n",
    "print(code)"
   ]
  },
  {
   "cell_type": "code",
   "execution_count": 33,
   "id": "1571fd22",
   "metadata": {},
   "outputs": [],
   "source": [
    "class TokenType(Enum):\n",
    "    keyword = \"KEYWORD\"\n",
    "    operator = \"OPERATOR\"\n",
    "    separator = \"SEPARATOR\"\n",
    "    literal = \"LITERAL\"\n",
    "    identifier = \"IDENTIFIER\"\n",
    "    \n",
    "@dataclass\n",
    "class Token:\n",
    "    type: TokenType\n",
    "    value: str\n",
    "\n",
    "\n",
    "KEYWORDS = (\"LET\", \"PRINT\", \"IF\", \"ELSE\")\n",
    "OPERATORS = ('+', '-', '*', '/', '%', '&', '|', '!', '=', '==', '!=', '>', '<', '<=', '>=')\n",
    "SEPARATORS = ('[', ']', '(', ')', '{', '}', ';', ',', '\"', ' ')\n"
   ]
  },
  {
   "cell_type": "code",
   "execution_count": 34,
   "id": "e625c003",
   "metadata": {},
   "outputs": [],
   "source": [
    "tokens = []\n",
    "i = 0\n",
    "while i < len(code):\n",
    "    if code[i] in OPERATORS:\n",
    "        tokens.append(Token(TokenType.operator, code[i]))\n",
    "    \n",
    "    i+=1"
   ]
  },
  {
   "cell_type": "code",
   "execution_count": 35,
   "id": "ce248b5c",
   "metadata": {},
   "outputs": [
    {
     "data": {
      "text/plain": [
       "[Token(type=<TokenType.operator: 'OPERATOR'>, value='!'),\n",
       " Token(type=<TokenType.operator: 'OPERATOR'>, value='='),\n",
       " Token(type=<TokenType.operator: 'OPERATOR'>, value='='),\n",
       " Token(type=<TokenType.operator: 'OPERATOR'>, value='='),\n",
       " Token(type=<TokenType.operator: 'OPERATOR'>, value='-'),\n",
       " Token(type=<TokenType.operator: 'OPERATOR'>, value='='),\n",
       " Token(type=<TokenType.operator: 'OPERATOR'>, value='*'),\n",
       " Token(type=<TokenType.operator: 'OPERATOR'>, value='+')]"
      ]
     },
     "execution_count": 35,
     "metadata": {},
     "output_type": "execute_result"
    }
   ],
   "source": [
    "tokens"
   ]
  },
  {
   "cell_type": "code",
   "execution_count": null,
   "id": "38660b45",
   "metadata": {},
   "outputs": [],
   "source": []
  }
 ],
 "metadata": {
  "kernelspec": {
   "display_name": "Python 3 (ipykernel)",
   "language": "python",
   "name": "python3"
  },
  "language_info": {
   "codemirror_mode": {
    "name": "ipython",
    "version": 3
   },
   "file_extension": ".py",
   "mimetype": "text/x-python",
   "name": "python",
   "nbconvert_exporter": "python",
   "pygments_lexer": "ipython3",
   "version": "3.10.12"
  }
 },
 "nbformat": 4,
 "nbformat_minor": 5
}
